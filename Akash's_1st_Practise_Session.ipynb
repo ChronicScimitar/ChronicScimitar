{
  "nbformat": 4,
  "nbformat_minor": 0,
  "metadata": {
    "colab": {
      "provenance": [],
      "authorship_tag": "ABX9TyNmsjZhujikh1BJzxIR8UzZ",
      "include_colab_link": true
    },
    "kernelspec": {
      "name": "python3",
      "display_name": "Python 3"
    },
    "language_info": {
      "name": "python"
    }
  },
  "cells": [
    {
      "cell_type": "markdown",
      "metadata": {
        "id": "view-in-github",
        "colab_type": "text"
      },
      "source": [
        "<a href=\"https://colab.research.google.com/github/ChronicScimitar/ChronicScimitar/blob/main/Akash's_1st_Practise_Session.ipynb\" target=\"_parent\"><img src=\"https://colab.research.google.com/assets/colab-badge.svg\" alt=\"Open In Colab\"/></a>"
      ]
    },
    {
      "cell_type": "markdown",
      "source": [
        "**Question : Find the Square of the given number.**"
      ],
      "metadata": {
        "id": "iacYXxwWfSfy"
      }
    },
    {
      "cell_type": "code",
      "execution_count": null,
      "metadata": {
        "colab": {
          "base_uri": "https://localhost:8080/"
        },
        "id": "BKU6OO7OX-x6",
        "outputId": "25d979b2-9464-4c0c-a76d-df28edb63ab2"
      },
      "outputs": [
        {
          "output_type": "stream",
          "name": "stdout",
          "text": [
            "The square of 5 is: 25\n"
          ]
        }
      ],
      "source": [
        "def find_square(number):           #By using def func\n",
        "    square = number ** 2\n",
        "    return square\n",
        "result = find_square(5)\n",
        "print(f\"The square of {5} is: {result}\")"
      ]
    },
    {
      "cell_type": "code",
      "source": [
        "# Get user input for the number                      #By not using def function\n",
        "input_number = int(input(\"Enter a number: \"))\n",
        "\n",
        "# Calculate the square of the input number\n",
        "square = input_number ** 2\n",
        "\n",
        "# Display the result\n",
        "print(f\"The square of {input_number} is: {square}\")\n"
      ],
      "metadata": {
        "colab": {
          "base_uri": "https://localhost:8080/"
        },
        "id": "n_4I-W3kYGf6",
        "outputId": "3c1dc5af-157e-42ca-c96a-21cc3779f95a"
      },
      "execution_count": null,
      "outputs": [
        {
          "output_type": "stream",
          "name": "stdout",
          "text": [
            "Enter a number: 5\n",
            "The square of 5 is: 25\n"
          ]
        }
      ]
    },
    {
      "cell_type": "code",
      "source": [
        "# Get user input for the number                     #By using f string and float\n",
        "input_number = float(input(\"Enter a number: \"))\n",
        "\n",
        "# Calculate the square of the input number\n",
        "square = input_number ** 2\n",
        "\n",
        "# Display the result without using f-string\n",
        "print(\"The square of\", input_number, \"is:\", square)\n"
      ],
      "metadata": {
        "colab": {
          "base_uri": "https://localhost:8080/"
        },
        "id": "ek-9duCWYl3W",
        "outputId": "8beee9c4-4541-4151-d3d2-132cef2a056e"
      },
      "execution_count": null,
      "outputs": [
        {
          "output_type": "stream",
          "name": "stdout",
          "text": [
            "Enter a number: 5\n",
            "The square of 5.0 is: 25.0\n"
          ]
        }
      ]
    },
    {
      "cell_type": "code",
      "source": [
        "number = int(input(\"Enter a number: \"))               #shortest way\n",
        "print(\"Square :\", number ** 2)"
      ],
      "metadata": {
        "colab": {
          "base_uri": "https://localhost:8080/"
        },
        "id": "m0f54AEUY39E",
        "outputId": "f834578f-0da4-4a04-e94b-08ab8e69404c"
      },
      "execution_count": null,
      "outputs": [
        {
          "output_type": "stream",
          "name": "stdout",
          "text": [
            "Enter a number: 5\n",
            "Square : 25\n"
          ]
        }
      ]
    },
    {
      "cell_type": "code",
      "source": [
        "n = int(input(\"Enter a Number\"))                    #shortest and understandable way\n",
        "sq = n*n\n",
        "print(sq)"
      ],
      "metadata": {
        "colab": {
          "base_uri": "https://localhost:8080/"
        },
        "id": "-eQQKATE0-Tv",
        "outputId": "2c3e5e82-7b49-4a0d-f5e6-77ae3640b438"
      },
      "execution_count": null,
      "outputs": [
        {
          "output_type": "stream",
          "name": "stdout",
          "text": [
            "Enter a Number5\n",
            "25\n"
          ]
        }
      ]
    },
    {
      "cell_type": "code",
      "source": [
        "n = int(input(\"Enter a Number: \"))\n",
        "sq = n**2\n",
        "print(f\"The square of {n} is {sq}\")"
      ],
      "metadata": {
        "colab": {
          "base_uri": "https://localhost:8080/"
        },
        "id": "1iGivDSs1YBp",
        "outputId": "00a0ffbf-9806-40a8-e88c-63e1ed9c77bd"
      },
      "execution_count": null,
      "outputs": [
        {
          "output_type": "stream",
          "name": "stdout",
          "text": [
            "Enter a Number: 5\n",
            "The square of 5 is 25\n"
          ]
        }
      ]
    },
    {
      "cell_type": "markdown",
      "source": [
        "**Question : Find the difference between two numbers **\n"
      ],
      "metadata": {
        "id": "MTQEkR8407_B"
      }
    },
    {
      "cell_type": "code",
      "source": [
        "def diff():\n",
        "  a=int(input(\"Enter the first value\"))\n",
        "  b=int(input(\"Enter the second value\"))\n",
        "  c=a-b\n",
        "  print(f\"The difference between {a} and {b} is : {c} \")\n",
        "diff()"
      ],
      "metadata": {
        "colab": {
          "base_uri": "https://localhost:8080/"
        },
        "id": "iblrvLbEa86t",
        "outputId": "db5cc7d1-28b0-4943-fa95-58c41f6fbf62"
      },
      "execution_count": null,
      "outputs": [
        {
          "output_type": "stream",
          "name": "stdout",
          "text": [
            "Enter the first value5\n",
            "Enter the second value2\n",
            "The difference between 5 and 2 is : 3 \n"
          ]
        }
      ]
    },
    {
      "cell_type": "code",
      "source": [
        "def diff():\n",
        "  a=int(input(\"Enter the first value\"))\n",
        "  b=int(input(\"Enter the second value\"))\n",
        "  c=a-b\n",
        "  return c\n",
        "\n",
        "x=diff()\n",
        "print(x)"
      ],
      "metadata": {
        "id": "4SlW4QJjvNVI",
        "colab": {
          "base_uri": "https://localhost:8080/"
        },
        "outputId": "aef0c6de-d78b-41eb-8d35-749e378231fb"
      },
      "execution_count": null,
      "outputs": [
        {
          "output_type": "stream",
          "name": "stdout",
          "text": [
            "Enter the first value5\n",
            "Enter the second value2\n",
            "3\n"
          ]
        }
      ]
    },
    {
      "cell_type": "code",
      "source": [
        "def diff():\n",
        "  a=int(input(\"Enter the first value \"))\n",
        "  b=int(input(\"Enter the second value \"))\n",
        "  c=a-b\n",
        "  print(\"The difference between\", a , \"and\" , b , \"is -\" ,c)\n",
        "diff()"
      ],
      "metadata": {
        "colab": {
          "base_uri": "https://localhost:8080/"
        },
        "id": "OSL2n2nXjOmB",
        "outputId": "166ed366-f9b2-46da-f2bd-d1f2d0480df8"
      },
      "execution_count": null,
      "outputs": [
        {
          "output_type": "stream",
          "name": "stdout",
          "text": [
            "Enter the first value 5\n",
            "Enter the second value 2\n",
            "The difference between 5 and 2 is - 3\n"
          ]
        }
      ]
    },
    {
      "cell_type": "code",
      "source": [
        "# Get user input for the two numbers\n",
        "number1 = int(input(\"Enter the first number: \"))\n",
        "number2 = int(input(\"Enter the second number: \"))\n",
        "\n",
        "# Calculate the difference\n",
        "difference = number1 - number2\n",
        "\n",
        "# Display the result\n",
        "print(f\"The difference between {number1} and {number2} is: {difference}\")\n"
      ],
      "metadata": {
        "colab": {
          "base_uri": "https://localhost:8080/"
        },
        "id": "lQW4buotn6ON",
        "outputId": "29d8edcc-78a3-4047-b3fb-60e4a85760dc"
      },
      "execution_count": null,
      "outputs": [
        {
          "output_type": "stream",
          "name": "stdout",
          "text": [
            "Enter the first number: 5\n",
            "Enter the second number: 2\n",
            "The difference between 5 and 2 is: 3\n"
          ]
        }
      ]
    },
    {
      "cell_type": "code",
      "source": [
        "difference = float(input(\"Enter the first number: \")) - float(input(\"Enter the second number: \"))\n",
        "print(\"Difference:\", difference)\n"
      ],
      "metadata": {
        "colab": {
          "base_uri": "https://localhost:8080/"
        },
        "id": "jvNTzmhEn7qZ",
        "outputId": "42a670f5-9d9a-4ca3-f92d-2b2e0ef03718"
      },
      "execution_count": null,
      "outputs": [
        {
          "output_type": "stream",
          "name": "stdout",
          "text": [
            "Enter the first number: 10\n",
            "Enter the second number: 4\n",
            "Difference: 6.0\n"
          ]
        }
      ]
    },
    {
      "cell_type": "markdown",
      "source": [
        "Question : Find the Sum of Two Numbers"
      ],
      "metadata": {
        "id": "O52wB5xXtq7i"
      }
    },
    {
      "cell_type": "code",
      "source": [
        "addition = int(input(\"First Number :\")) + int(input(\"Second Number :\"))\n",
        "print (\"Sum =\" ,addition)"
      ],
      "metadata": {
        "colab": {
          "base_uri": "https://localhost:8080/"
        },
        "id": "ylD-EboCqMkC",
        "outputId": "dde33843-02a9-4964-f6fd-661158abaa39"
      },
      "execution_count": null,
      "outputs": [
        {
          "output_type": "stream",
          "name": "stdout",
          "text": [
            "First Number :5\n",
            "Second Number :2\n",
            "Sum = 7\n"
          ]
        }
      ]
    },
    {
      "cell_type": "code",
      "source": [
        "\n",
        "add = int(input(\"First Number :\")) + int(input(\"Second Number :\"))\n",
        "print (\"Sum =\" ,add)"
      ],
      "metadata": {
        "colab": {
          "base_uri": "https://localhost:8080/"
        },
        "id": "dwO7YM8fshmG",
        "outputId": "2143eb1b-135a-4754-b751-e1f8e6acf63d"
      },
      "execution_count": null,
      "outputs": [
        {
          "output_type": "stream",
          "name": "stdout",
          "text": [
            "First Number :10\n",
            "Second Number :20\n",
            "Sum = 30\n"
          ]
        }
      ]
    },
    {
      "cell_type": "code",
      "source": [
        "# Get user input for the two numbers\n",
        "number1 = int(input(\"Enter the first number: \"))\n",
        "number2 = int(input(\"Enter the second number: \"))\n",
        "\n",
        "# Calculate the sum\n",
        "Sum = number1 + number2\n",
        "\n",
        "# Display the result\n",
        "print(f\"The addition of {number1} and {number2} is: {Sum}\")"
      ],
      "metadata": {
        "colab": {
          "base_uri": "https://localhost:8080/"
        },
        "id": "ER3XJoIrssJx",
        "outputId": "9fdae76e-c717-4a7e-e921-eb07f87eaf88"
      },
      "execution_count": null,
      "outputs": [
        {
          "output_type": "stream",
          "name": "stdout",
          "text": [
            "Enter the first number: 5\n",
            "Enter the second number: 10\n",
            "The addition of 5 and 10 is: 15\n"
          ]
        }
      ]
    },
    {
      "cell_type": "code",
      "source": [
        "def sum():\n",
        "  a=int(input(\"Enter the first value\"))\n",
        "  b=int(input(\"Enter the second value\"))\n",
        "  c=a+b\n",
        "  print(f\"The sum of {a} and {b} is : {c} \")\n",
        "sum()"
      ],
      "metadata": {
        "colab": {
          "base_uri": "https://localhost:8080/"
        },
        "id": "YbXikKpguDvs",
        "outputId": "72564fd4-ccc4-45bf-da0a-1580a4090393"
      },
      "execution_count": null,
      "outputs": [
        {
          "output_type": "stream",
          "name": "stdout",
          "text": [
            "Enter the first value5\n",
            "Enter the second value2\n",
            "The sum of 5 and 2 is : 7 \n"
          ]
        }
      ]
    },
    {
      "cell_type": "code",
      "source": [
        "\n",
        "def sum(a,b):\n",
        "  c = a+b\n",
        "  print(f\" {a} + {b} = {c} \")\n",
        "sum(55,3)"
      ],
      "metadata": {
        "colab": {
          "base_uri": "https://localhost:8080/"
        },
        "id": "tGIXpcsYufkb",
        "outputId": "5d76b7f4-77d2-4fba-d78e-6dc2d1ec2672"
      },
      "execution_count": null,
      "outputs": [
        {
          "output_type": "stream",
          "name": "stdout",
          "text": [
            " 55 + 3 = 58 \n"
          ]
        }
      ]
    },
    {
      "cell_type": "markdown",
      "source": [
        "**Question : Whether a number is Positive , Negetive or Zero**"
      ],
      "metadata": {
        "id": "iumr5trYFaP5"
      }
    },
    {
      "cell_type": "code",
      "source": [
        "number = float(input(\"Enter a number: \"))\n",
        "result = \"Positive\" if number > 0 else \"Negative\" if number < 0 else \"Zero\"\n",
        "print(f\"The number is {result}.\")\n"
      ],
      "metadata": {
        "colab": {
          "base_uri": "https://localhost:8080/"
        },
        "id": "qW1GLBsCxwYQ",
        "outputId": "e145ade2-d423-41a9-af0d-7102653a18d2"
      },
      "execution_count": null,
      "outputs": [
        {
          "output_type": "stream",
          "name": "stdout",
          "text": [
            "Enter a number: 0\n",
            "The number is Zero.\n"
          ]
        }
      ]
    },
    {
      "cell_type": "code",
      "source": [
        "number = float(input(\"Enter a number: \"))\n",
        "\n",
        "if number > 0:\n",
        "    print(\"The number is Positive.\")\n",
        "elif number < 0:\n",
        "    print(\"The number is Negative.\")\n",
        "else:\n",
        "    print(\"The number is Zero.\")\n"
      ],
      "metadata": {
        "colab": {
          "base_uri": "https://localhost:8080/"
        },
        "id": "BqdgFmk4EwFl",
        "outputId": "a5139b75-9716-4454-971f-03f88d973e60"
      },
      "execution_count": null,
      "outputs": [
        {
          "output_type": "stream",
          "name": "stdout",
          "text": [
            "Enter a number: 5\n",
            "The number is Positive.\n"
          ]
        }
      ]
    },
    {
      "cell_type": "code",
      "source": [
        "number = float(input(\"Enter a number: \"))\n",
        "\n",
        "if number > 0:\n",
        "    print(\"The number is Positive.\")\n",
        "if number < 0:\n",
        "    print(\"The number is Negative.\")\n",
        "if number == 0:\n",
        "    print(\"The number is Zero.\")\n"
      ],
      "metadata": {
        "colab": {
          "base_uri": "https://localhost:8080/"
        },
        "id": "nTJcePu6FTur",
        "outputId": "4d5abe54-810c-468f-cf96-7b13db025142"
      },
      "execution_count": null,
      "outputs": [
        {
          "output_type": "stream",
          "name": "stdout",
          "text": [
            "Enter a number: 0\n",
            "The number is Zero.\n"
          ]
        }
      ]
    },
    {
      "cell_type": "markdown",
      "source": [
        "**Question : Find a factorial of a number.**"
      ],
      "metadata": {
        "id": "4SxdWmscKCCY"
      }
    },
    {
      "cell_type": "code",
      "source": [
        "n = int(input(\"Enter a number :\"))\n",
        "\n",
        "factorial = 1\n",
        "\n",
        "for i in range(1,n+1):\n",
        "  factorial = factorial * i\n",
        "print(factorial)"
      ],
      "metadata": {
        "id": "UE5S8cJ6FXfz",
        "colab": {
          "base_uri": "https://localhost:8080/"
        },
        "outputId": "20bc2d2c-afd0-4ddb-b4c5-96a6b57e69b6"
      },
      "execution_count": 80,
      "outputs": [
        {
          "output_type": "stream",
          "name": "stdout",
          "text": [
            "Enter a number :5\n",
            "120\n"
          ]
        }
      ]
    },
    {
      "cell_type": "code",
      "source": [
        "def factorial(n):\n",
        "  return 1 if n == 0 or n == 1 else n*factorial(n-1)\n",
        "  result = factorial(n)\n",
        "  print(result)"
      ],
      "metadata": {
        "id": "HhX-JMSKMjjJ"
      },
      "execution_count": 91,
      "outputs": []
    },
    {
      "cell_type": "code",
      "source": [
        "factorial(2)"
      ],
      "metadata": {
        "colab": {
          "base_uri": "https://localhost:8080/"
        },
        "id": "rZawhYoPN1jr",
        "outputId": "ee3566d1-de5b-4b66-9c0a-def472f380ab"
      },
      "execution_count": 89,
      "outputs": [
        {
          "output_type": "execute_result",
          "data": {
            "text/plain": [
              "2"
            ]
          },
          "metadata": {},
          "execution_count": 89
        }
      ]
    },
    {
      "cell_type": "code",
      "source": [
        "factorial(3)"
      ],
      "metadata": {
        "colab": {
          "base_uri": "https://localhost:8080/"
        },
        "id": "vL14onnYN8uL",
        "outputId": "1d8cfe73-7a3e-4c7c-89ba-4d19ca82bf0c"
      },
      "execution_count": 84,
      "outputs": [
        {
          "output_type": "execute_result",
          "data": {
            "text/plain": [
              "6"
            ]
          },
          "metadata": {},
          "execution_count": 84
        }
      ]
    },
    {
      "cell_type": "code",
      "source": [
        "factorial(4)"
      ],
      "metadata": {
        "colab": {
          "base_uri": "https://localhost:8080/"
        },
        "id": "wclTyog1OBiD",
        "outputId": "f20847e8-e6e4-44a6-e09e-b526a622e1cd"
      },
      "execution_count": 85,
      "outputs": [
        {
          "output_type": "execute_result",
          "data": {
            "text/plain": [
              "24"
            ]
          },
          "metadata": {},
          "execution_count": 85
        }
      ]
    },
    {
      "cell_type": "markdown",
      "source": [
        "Pyramid Pattern"
      ],
      "metadata": {
        "id": "at4t2LlRQaU2"
      }
    },
    {
      "cell_type": "code",
      "source": [
        "N = int(input(\"Enter the length of the pyramid: \"))\n",
        "\n",
        "for i in range(1, N + 1):\n",
        "    spaces = \" \" * (N - i)\n",
        "    stars = \"*\" * (2 * i - 1)\n",
        "    print(spaces + stars)\n"
      ],
      "metadata": {
        "colab": {
          "base_uri": "https://localhost:8080/"
        },
        "id": "M59edp9YOE3q",
        "outputId": "59b9a086-b598-4ba9-aece-41f565229c57"
      },
      "execution_count": 93,
      "outputs": [
        {
          "output_type": "stream",
          "name": "stdout",
          "text": [
            "Enter the length of the pyramid: 4\n",
            "   *\n",
            "  ***\n",
            " *****\n",
            "*******\n"
          ]
        }
      ]
    },
    {
      "cell_type": "code",
      "source": [
        "N = int(input(\"Enter the length of the pyramid: \"))\n",
        "\n",
        "for i in range(N):\n",
        "    for j in range(N - i - 1):\n",
        "        print(\" \", end=\"\")\n",
        "    for k in range(2 * i + 1):\n",
        "        print(\"*\", end=\"\")\n",
        "    print()\n"
      ],
      "metadata": {
        "colab": {
          "base_uri": "https://localhost:8080/"
        },
        "id": "ciScyCuNPoXu",
        "outputId": "cc0a1439-0e72-4348-92bd-ae99944606e4"
      },
      "execution_count": 94,
      "outputs": [
        {
          "output_type": "stream",
          "name": "stdout",
          "text": [
            "Enter the length of the pyramid: 4\n",
            "   *\n",
            "  ***\n",
            " *****\n",
            "*******\n"
          ]
        }
      ]
    },
    {
      "cell_type": "markdown",
      "source": [
        "Diamond Pattern"
      ],
      "metadata": {
        "id": "4w80rSNrQeA2"
      }
    },
    {
      "cell_type": "code",
      "source": [
        "N = int(input(\"Enter the length of the diamond: \"))\n",
        "\n",
        "# Upper part of the diamond\n",
        "for i in range(1, N + 1):\n",
        "    spaces = \" \" * (N - i)\n",
        "    stars = \"*\" * (2 * i - 1)\n",
        "    print(spaces + stars)\n",
        "\n",
        "# Lower part of the diamond\n",
        "for i in range(N - 1, 0, -1):\n",
        "    spaces = \" \" * (N - i)\n",
        "    stars = \"*\" * (2 * i - 1)\n",
        "    print(spaces + stars)\n"
      ],
      "metadata": {
        "colab": {
          "base_uri": "https://localhost:8080/"
        },
        "id": "dxszhv_pQX8M",
        "outputId": "479341af-7f5f-460d-e6e0-6bc91a90e57c"
      },
      "execution_count": 97,
      "outputs": [
        {
          "output_type": "stream",
          "name": "stdout",
          "text": [
            "Enter the length of the diamond: 3\n",
            "  *\n",
            " ***\n",
            "*****\n",
            " ***\n",
            "  *\n"
          ]
        }
      ]
    },
    {
      "cell_type": "code",
      "source": [
        "N = 7\n",
        "\n",
        "# Upper part of the diamond\n",
        "for i in range(1, N + 1):\n",
        "    spaces = \" \" * (N - i)\n",
        "    stars = \"*\" * (2 * i - 1)\n",
        "    print(spaces + stars)\n",
        "\n",
        "# Lower part of the diamond\n",
        "for i in range(N - 1, 0, -1):\n",
        "    spaces = \" \" * (N - i)\n",
        "    stars = \"*\" * (2 * i - 1)\n",
        "    print(spaces + stars)\n"
      ],
      "metadata": {
        "colab": {
          "base_uri": "https://localhost:8080/"
        },
        "id": "6OORq4NSQmNy",
        "outputId": "9f83d004-358e-459a-d8e3-4943e6b957c2"
      },
      "execution_count": 98,
      "outputs": [
        {
          "output_type": "stream",
          "name": "stdout",
          "text": [
            "      *\n",
            "     ***\n",
            "    *****\n",
            "   *******\n",
            "  *********\n",
            " ***********\n",
            "*************\n",
            " ***********\n",
            "  *********\n",
            "   *******\n",
            "    *****\n",
            "     ***\n",
            "      *\n"
          ]
        }
      ]
    },
    {
      "cell_type": "code",
      "source": [
        "N = 7\n",
        "\n",
        "# Upper part of the diamond\n",
        "for i in range(1, N // 2 + 2):\n",
        "    spaces = \" \" * (N // 2 + 1 - i)\n",
        "    stars = \"*\" * (2 * i - 1)\n",
        "    print(spaces + stars)\n",
        "\n",
        "# Lower part of the diamond\n",
        "for i in range(N // 2, 0, -1):\n",
        "    spaces = \" \" * (N // 2 + 1 - i)\n",
        "    stars = \"*\" * (2 * i - 1)\n",
        "    print(spaces + stars)\n",
        "\n"
      ],
      "metadata": {
        "colab": {
          "base_uri": "https://localhost:8080/"
        },
        "id": "4wSFizimQ6mB",
        "outputId": "cacdcd58-638d-4da7-ef5b-9f9dfcc2ab97"
      },
      "execution_count": 99,
      "outputs": [
        {
          "output_type": "stream",
          "name": "stdout",
          "text": [
            "   *\n",
            "  ***\n",
            " *****\n",
            "*******\n",
            " *****\n",
            "  ***\n",
            "   *\n"
          ]
        }
      ]
    },
    {
      "cell_type": "code",
      "source": [
        "numbers = [1, 2, 3, 4, 5, 6, 7, 8, 9, 10]\n",
        "\n",
        "even_numbers = list(filter(lambda x: x % 2 == 0, numbers))\n",
        "\n",
        "print(\"Even numbers:\", even_numbers)\n"
      ],
      "metadata": {
        "colab": {
          "base_uri": "https://localhost:8080/"
        },
        "id": "Iub6OeU5REZY",
        "outputId": "352a76d1-357b-4fdf-f06a-99f349686a6e"
      },
      "execution_count": 101,
      "outputs": [
        {
          "output_type": "stream",
          "name": "stdout",
          "text": [
            "Even numbers: [2, 4, 6, 8, 10]\n"
          ]
        }
      ]
    },
    {
      "cell_type": "code",
      "source": [],
      "metadata": {
        "id": "KMww_loZRwVH"
      },
      "execution_count": null,
      "outputs": []
    },
    {
      "cell_type": "markdown",
      "source": [
        "OOPS HANDSON\n"
      ],
      "metadata": {
        "id": "sgvR_3IxS00v"
      }
    },
    {
      "cell_type": "code",
      "source": [
        "class Car:\n",
        "  def __init__(self,make,model):\n",
        "    self.make = make\n",
        "    self.model = model\n",
        "ob = Car(\"Tata\" , \"Nano\")\n",
        "print(ob.make , ob.model)"
      ],
      "metadata": {
        "colab": {
          "base_uri": "https://localhost:8080/"
        },
        "id": "bT4vxl0QS20C",
        "outputId": "35f08db0-8c33-403f-d79a-06366b421361"
      },
      "execution_count": 106,
      "outputs": [
        {
          "output_type": "stream",
          "name": "stdout",
          "text": [
            "Tata Nano\n"
          ]
        }
      ]
    },
    {
      "cell_type": "code",
      "source": [
        "class Car:\n",
        "    def __init__(self, make, model):\n",
        "        self.make = make\n",
        "        self.model = model\n",
        "        self.engine_started = False\n",
        "\n",
        "    def start(self):\n",
        "        if not self.engine_started:\n",
        "            print(\"Engine Started\")\n",
        "            self.engine_started = True\n",
        "        else:\n",
        "            print(\"Engine is already running\")\n",
        "\n",
        "    def stop(self):\n",
        "        if self.engine_started:\n",
        "            print(\"Engine Stopped\")\n",
        "            self.engine_started = False\n",
        "        else:\n",
        "            print(\"Engine is already stopped\")\n",
        "\n",
        "# Creating a Car object\n",
        "my_car = Car(\"Toyota\", \"Camry\")\n",
        "\n",
        "# Starting and stopping the engine\n",
        "my_car.start()\n",
        "my_car.stop()\n",
        "my_car.start()\n"
      ],
      "metadata": {
        "colab": {
          "base_uri": "https://localhost:8080/"
        },
        "id": "BDDcJmr1f4IF",
        "outputId": "3f2c5a54-3a52-4915-b2be-3bdee23c3ebd"
      },
      "execution_count": 107,
      "outputs": [
        {
          "output_type": "stream",
          "name": "stdout",
          "text": [
            "Engine Started\n",
            "Engine Stopped\n",
            "Engine Started\n"
          ]
        }
      ]
    },
    {
      "cell_type": "code",
      "source": [],
      "metadata": {
        "id": "ZDlOPRkGib6l"
      },
      "execution_count": null,
      "outputs": []
    }
  ]
}